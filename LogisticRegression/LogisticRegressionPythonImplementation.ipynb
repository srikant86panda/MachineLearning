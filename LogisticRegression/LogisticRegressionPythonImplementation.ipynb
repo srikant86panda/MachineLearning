{
 "cells": [
  {
   "cell_type": "markdown",
   "metadata": {},
   "source": [
    "### Logistic Regression Vectorized"
   ]
  },
  {
   "cell_type": "code",
   "execution_count": 80,
   "metadata": {},
   "outputs": [],
   "source": [
    "import pandas as pd\n",
    "import matplotlib.pyplot as plt\n",
    "from sklearn import datasets\n",
    "import numpy as np\n",
    "from sklearn.model_selection import train_test_split\n",
    "%matplotlib inline"
   ]
  },
  {
   "cell_type": "code",
   "execution_count": 237,
   "metadata": {},
   "outputs": [
    {
     "name": "stdout",
     "output_type": "stream",
     "text": [
      "(99, 4)\n",
      "(99, 1)\n",
      "[ 0.  1.]\n"
     ]
    }
   ],
   "source": [
    "iris = datasets.load_iris()\n",
    "X = pd.DataFrame(iris.data[51:,:], columns=iris.feature_names)\n",
    "y = iris.target[51:].reshape(99,1)\n",
    "y=(y-min(y))/(max(y)-min(y))\n",
    "print(X.shape)\n",
    "print(y.shape)\n",
    "print(np.unique(y))"
   ]
  },
  {
   "cell_type": "code",
   "execution_count": 238,
   "metadata": {},
   "outputs": [
    {
     "data": {
      "text/plain": [
       "<matplotlib.collections.PathCollection at 0x220ed978>"
      ]
     },
     "execution_count": 238,
     "metadata": {},
     "output_type": "execute_result"
    },
    {
     "data": {
      "image/png": "[encoded data removed]",
      "text/plain": [
       "<matplotlib.figure.Figure at 0x220bebe0>"
      ]
     },
     "metadata": {},
     "output_type": "display_data"
    }
   ],
   "source": [
    "plt.figure(figsize=(6,4))\n",
    "plt.scatter(X.iloc[:,0], X.iloc[:,1],c = y[:,0], alpha = .4)"
   ]
  },
  {
   "cell_type": "code",
   "execution_count": 234,
   "metadata": {},
   "outputs": [],
   "source": [
    "def sigmoid(z):\n",
    "    return 1 / (1 + np.exp(-z))\n",
    "\n",
    "def initialize_with_zeros(dim):\n",
    "    w = np.zeros(shape=(dim,1))\n",
    "    b = 0\n",
    "    return w, b\n",
    "\n",
    "def propagate(w, b, X, Y):\n",
    "    m = X.shape[1]\n",
    "    A = sigmoid(np.dot(w.T, X) + b )\n",
    "    cost = (-1/m) * (np.sum((Y * np.log(A)) + ((1-Y) * np.log(1-A))))\n",
    "    dw = (1/m) * (np.dot(X,(A-Y).T))\n",
    "    db = (1/m) * (np.sum(A-Y))\n",
    "    cost = np.squeeze(cost)\n",
    "    grads = {\"dw\": dw,\n",
    "             \"db\": db}\n",
    "    return grads, cost\n",
    "\n",
    "def predict(w, b, X):\n",
    "    m = X.shape[1]\n",
    "    Y_prediction = np.zeros((1,m))\n",
    "    w = w.reshape(X.shape[0], 1)\n",
    "    A = sigmoid(np.dot(w.T,X)+b)\n",
    "    \n",
    "    for i in range(A.shape[1]):\n",
    "        if(A[0,i] >0.5):\n",
    "            Y_prediction[0,i]=1\n",
    "        else:\n",
    "            Y_prediction[0,i]=0\n",
    "        pass\n",
    "\n",
    "    return Y_prediction\n",
    "\n",
    "def optimize(w, b, X, Y, num_iterations, learning_rate, print_cost = False):\n",
    "    costs = []\n",
    "    iterations = []\n",
    "    for i in range(num_iterations):\n",
    "        grads, cost = propagate(w, b, X, Y)\n",
    "        dw = grads[\"dw\"]\n",
    "        db = grads[\"db\"]\n",
    "        w = w - learning_rate * dw\n",
    "        b = b - learning_rate * db\n",
    "        if i % 100 == 0:\n",
    "            costs.append(cost)\n",
    "            iterations.append(i)\n",
    "        if print_cost and i % 100 == 0:\n",
    "            print (\"Cost after iteration %i: %f\" %(i, cost))\n",
    "    params = {\"w\": w,\n",
    "              \"b\": b}\n",
    "    grads = {\"dw\": dw,\n",
    "             \"db\": db}\n",
    "    \n",
    "    return params, grads, costs, iterations"
   ]
  },
  {
   "cell_type": "code",
   "execution_count": 230,
   "metadata": {},
   "outputs": [],
   "source": [
    "def model(X_train, Y_train, X_test, Y_test, num_iterations = 2000, learning_rate = 0.01, print_cost = False):\n",
    "    print(X_train.shape, Y_train.shape, X_test.shape, Y_test.shape)\n",
    "    w, b = initialize_with_zeros(X_train.shape[0])\n",
    "    \n",
    "    parameters, grads, costs, iterations = optimize(w, b, X_train, Y_train, num_iterations, learning_rate, print_cost = True)\n",
    "    \n",
    "    w = parameters[\"w\"]\n",
    "    b = parameters[\"b\"]\n",
    "    \n",
    "    Y_prediction_test = predict(w, b, X_test)\n",
    "    Y_prediction_train = predict(w, b, X_train)\n",
    "\n",
    "    print(\"train accuracy: {} %\".format(100 - np.mean(np.abs(Y_prediction_train - Y_train)) * 100))\n",
    "    print(\"test accuracy: {} %\".format(100 - np.mean(np.abs(Y_prediction_test - Y_test)) * 100))\n",
    "\n",
    "    d = {\"costs\": costs,\n",
    "         \"iterations\":iterations,\n",
    "         \"Y_prediction_test\": Y_prediction_test, \n",
    "         \"Y_prediction_train\" : Y_prediction_train, \n",
    "         \"w\" : w, \n",
    "         \"b\" : b,\n",
    "         \"learning_rate\" : learning_rate,\n",
    "         \"num_iterations\": num_iterations}\n",
    "    \n",
    "    return d"
   ]
  },
  {
   "cell_type": "code",
   "execution_count": 248,
   "metadata": {
    "collapsed": true
   },
   "outputs": [],
   "source": [
    "X_train, X_test, y_train, y_test = train_test_split(X, y, test_size=0.2)"
   ]
  },
  {
   "cell_type": "code",
   "execution_count": 246,
   "metadata": {},
   "outputs": [
    {
     "name": "stdout",
     "output_type": "stream",
     "text": [
      "(4, 79) (1, 79) (4, 20) (1, 20)\n",
      "Cost after iteration 0: 0.693147\n",
      "Cost after iteration 100: 0.670163\n",
      "Cost after iteration 200: 0.665929\n",
      "Cost after iteration 300: 0.662141\n",
      "Cost after iteration 400: 0.658400\n",
      "Cost after iteration 500: 0.654696\n",
      "Cost after iteration 600: 0.651028\n",
      "Cost after iteration 700: 0.647397\n",
      "Cost after iteration 800: 0.643801\n",
      "Cost after iteration 900: 0.640240\n",
      "Cost after iteration 1000: 0.636714\n",
      "Cost after iteration 1100: 0.633223\n",
      "Cost after iteration 1200: 0.629766\n",
      "Cost after iteration 1300: 0.626343\n",
      "Cost after iteration 1400: 0.622954\n",
      "Cost after iteration 1500: 0.619598\n",
      "Cost after iteration 1600: 0.616274\n",
      "Cost after iteration 1700: 0.612984\n",
      "Cost after iteration 1800: 0.609725\n",
      "Cost after iteration 1900: 0.606498\n",
      "train accuracy: 55.696202531645575 %\n",
      "test accuracy: 40.0 %\n",
      "(4, 79) (1, 79) (4, 20) (1, 20)\n",
      "Cost after iteration 0: 0.693147\n",
      "Cost after iteration 100: 0.636706\n",
      "Cost after iteration 200: 0.603289\n",
      "Cost after iteration 300: 0.572989\n",
      "Cost after iteration 400: 0.545485\n",
      "Cost after iteration 500: 0.520479\n",
      "Cost after iteration 600: 0.497702\n",
      "Cost after iteration 700: 0.476913\n",
      "Cost after iteration 800: 0.457895\n",
      "Cost after iteration 900: 0.440457\n",
      "Cost after iteration 1000: 0.424431\n",
      "Cost after iteration 1100: 0.409667\n",
      "Cost after iteration 1200: 0.396034\n",
      "Cost after iteration 1300: 0.383416\n",
      "Cost after iteration 1400: 0.371710\n",
      "Cost after iteration 1500: 0.360827\n",
      "Cost after iteration 1600: 0.350688\n",
      "Cost after iteration 1700: 0.341222\n",
      "Cost after iteration 1800: 0.332366\n",
      "Cost after iteration 1900: 0.324065\n",
      "train accuracy: 96.20253164556962 %\n",
      "test accuracy: 90.0 %\n",
      "(4, 79) (1, 79) (4, 20) (1, 20)\n",
      "Cost after iteration 0: 0.693147\n",
      "Cost after iteration 100: 0.552948\n",
      "Cost after iteration 200: 0.186663\n",
      "Cost after iteration 300: 0.160025\n",
      "Cost after iteration 400: 0.142638\n",
      "Cost after iteration 500: 0.130243\n",
      "Cost after iteration 600: 0.120875\n",
      "Cost after iteration 700: 0.113493\n",
      "Cost after iteration 800: 0.107493\n",
      "Cost after iteration 900: 0.102498\n",
      "Cost after iteration 1000: 0.098259\n",
      "Cost after iteration 1100: 0.094605\n",
      "Cost after iteration 1200: 0.091416\n",
      "Cost after iteration 1300: 0.088601\n",
      "Cost after iteration 1400: 0.086093\n",
      "Cost after iteration 1500: 0.083841\n",
      "Cost after iteration 1600: 0.081804\n",
      "Cost after iteration 1700: 0.079951\n",
      "Cost after iteration 1800: 0.078255\n",
      "Cost after iteration 1900: 0.076696\n",
      "train accuracy: 97.46835443037975 %\n",
      "test accuracy: 95.0 %\n"
     ]
    }
   ],
   "source": [
    "clf = model(X_train.T, y_train.T, X_test.T, y_test.T, num_iterations = 2000, learning_rate = 0.001, print_cost = True)\n",
    "clf1 = model(X_train.T, y_train.T, X_test.T, y_test.T, num_iterations = 2000, learning_rate = 0.01, print_cost = True)\n",
    "clf2 = model(X_train.T, y_train.T, X_test.T, y_test.T, num_iterations = 2000, learning_rate = 0.2, print_cost = True)"
   ]
  },
  {
   "cell_type": "code",
   "execution_count": 247,
   "metadata": {},
   "outputs": [
    {
     "data": {
      "text/plain": [
       "<matplotlib.legend.Legend at 0x222534a8>"
      ]
     },
     "execution_count": 247,
     "metadata": {},
     "output_type": "execute_result"
    },
    {
     "data": {
      "image/png": "[encoded data removed]",
      "text/plain": [
       "<matplotlib.figure.Figure at 0x220beef0>"
      ]
     },
     "metadata": {},
     "output_type": "display_data"
    }
   ],
   "source": [
    "plt.plot(clf[\"iterations\"], clf[\"costs\"], c = \"b\", alpha = .4,label=clf[\"learning_rate\"])\n",
    "plt.plot(clf1[\"iterations\"], clf1[\"costs\"], c = \"r\", alpha = .4,label=clf1[\"learning_rate\"])\n",
    "plt.plot(clf2[\"iterations\"], clf2[\"costs\"], c = \"g\", alpha = .4,label=clf2[\"learning_rate\"])\n",
    "plt.xlabel(\"Number of iterations\")\n",
    "plt.ylabel(\"Costs\")\n",
    "plt.title(\"Number of iterations vs costs\")\n",
    "plt.legend()"
   ]
  }
 ],
 "metadata": {
  "kernelspec": {
   "display_name": "Python 3",
   "language": "python",
   "name": "python3"
  },
  "language_info": {
   "codemirror_mode": {
    "name": "ipython",
    "version": 3
   },
   "file_extension": ".py",
   "mimetype": "text/x-python",
   "name": "python",
   "nbconvert_exporter": "python",
   "pygments_lexer": "ipython3",
   "version": "3.5.3"
  }
 },
 "nbformat": 4,
 "nbformat_minor": 2
}
